{
 "cells": [
  {
   "cell_type": "code",
   "execution_count": null,
   "metadata": {},
   "outputs": [],
   "source": [
    "import skvideo\n",
    "# skvideo.setFFmpegPath(\"/usr/bin\")\n",
    "import skvideo.io \n",
    "\n",
    "import numpy as np\n",
    "import PIL\n",
    "# from Attack_Models.CNN_Attack import Attack\n",
    "# import skvideo.io \n",
    "import json \n",
    "import torchvision.models as models\n",
    "from TREMBA.FCN import *\n",
    "from TREMBA.utils import *\n",
    "from TREMBA.dataloader import *\n",
    "import pandas as pd\n",
    "from pretrainedmodels import utils as ptm_utils\n",
    "from utils import * \n",
    "\n",
    "from video_caption_pytorch.models import EncoderRNN, DecoderRNN, S2VTAttModel, S2VTModel\n",
    "from video_caption_pytorch.dataloader import VideoDataset\n",
    "from video_caption_pytorch.process_features import process_batches\n",
    "from video_caption_pytorch.process_features import create_batches as create_batches_eval\n",
    "from video_caption_pytorch.models.ConvS2VT import ConvS2VT\n",
    "from video_caption_pytorch.misc import utils as utils"
   ]
  },
  {
   "cell_type": "code",
   "execution_count": null,
   "metadata": {},
   "outputs": [],
   "source": [
    "from evaluate_video_CW import *"
   ]
  },
  {
   "cell_type": "code",
   "execution_count": null,
   "metadata": {},
   "outputs": [],
   "source": [
    "config_path = \"configs/eval_CW\"\n",
    "for c in os.listdir(config_path):\n",
    "    config_name = os.path.join(config_path, c)\n",
    "    \n",
    "    if config_name.split('_')[0] == 'vgg16':\n",
    "        continue\n",
    "    \n",
    "    with open(config_name, 'r') as reader:\n",
    "        config = json.load(reader)\n",
    "    \n",
    "    evaluate(config)"
   ]
  }
 ],
 "metadata": {
  "kernelspec": {
   "display_name": "p38",
   "language": "python",
   "name": "python3"
  },
  "language_info": {
   "name": "python",
   "version": "3.8.12 (default, Oct 12 2021, 03:01:40) [MSC v.1916 64 bit (AMD64)]"
  },
  "orig_nbformat": 4,
  "vscode": {
   "interpreter": {
    "hash": "03a19f8fa65b74cd7dae413f97208843b288dfc75587b9c5e0b97b3a37e45809"
   }
  }
 },
 "nbformat": 4,
 "nbformat_minor": 2
}
